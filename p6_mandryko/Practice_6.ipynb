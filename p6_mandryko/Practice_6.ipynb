{
  "nbformat": 4,
  "nbformat_minor": 2,
  "metadata": {
    "colab": {
      "name": "Practice_5.ipynb",
      "provenance": [],
      "collapsed_sections": [
        "193Kzrii8JCG",
        "3txUK3KJUdkf",
        "n1mNKt9JzLSj"
      ]
    },
    "kernelspec": {
      "name": "python3",
      "display_name": "Python 3.8.9 64-bit"
    },
    "language_info": {
      "name": "python",
      "version": "3.8.9",
      "mimetype": "text/x-python",
      "codemirror_mode": {
        "name": "ipython",
        "version": 3
      },
      "pygments_lexer": "ipython3",
      "nbconvert_exporter": "python",
      "file_extension": ".py"
    },
    "interpreter": {
      "hash": "31f2aee4e71d21fbe5cf8b01ff0e069b9275f58929596ceb00d14d90e3e16cd6"
    }
  },
  "cells": [
    {
      "cell_type": "markdown",
      "source": [
        "# **Курс \"Програмування на мові Python\"**"
      ],
      "metadata": {
        "id": "FMqboNwO4rVs"
      }
    },
    {
      "cell_type": "markdown",
      "source": [
        "## **Практичне зайняття №6**\n",
        "### Тема: \"Робота з кортежами, множинами та словниками\""
      ],
      "metadata": {
        "id": "A2T6MigL5Z06"
      }
    },
    {
      "cell_type": "markdown",
      "source": [
        "**Контейнери** - це такі об'єкти, що можуть зберігати інші об'єкти.\n",
        "\n",
        "У мові програмування Python існує 4 класи об'єктів, що можуть зберігати колекції інших об'єктів.\n",
        "\n",
        "1. **Список (list)** - це впорядкована змінювана колекція об'єктів. У списках об'єкти індексуються та можуть дублюватися.\n",
        "\n",
        "2. **Кортеж (tuple)** - це впорядкована незмінювана колекція об'єктів. У кортежах об'єкти індексуються та можуть дублюватися. Кортеж - це незмінюваний список.\n",
        "\n",
        "3. **Множина (set)** - це невпорядкована змінювана колекція об'єктів, що не індексуються. У множинах об'єкти не можуть дублюватися.\n",
        "\n",
        "4. **Словник (dictionary)** - це невпорядкована змінювана колекція об'єктів, що індексуються за *ключем*, який посилається на *значення*. *Ключі* не можуть дублюватися, але *значення* дублюватися можуть."
      ],
      "metadata": {
        "id": "vr7jApnVy7LA"
      }
    },
    {
      "cell_type": "markdown",
      "source": [
        "### **1. Кортежі**"
      ],
      "metadata": {
        "id": "193Kzrii8JCG"
      }
    },
    {
      "cell_type": "markdown",
      "source": [
        "Кожен елемент кортежу має свою власну позицію (свій індекс), і ця позиція не може бути змінена у процесі роботи програми. Неможливо додати або видалити елементи кортежу.\n",
        "\n",
        "Існує кілька причин, чому іноді краще використовувати кортежі замість списків. Одна з них - кортежі дозволяють убезпечити дані від випадкових та навмисних змін. Друга - кортежі займають менше місця у пам'яті, ніж списки. Третя - використання кортежів дає приріст у швидкості обробки даних у порівнянні зі списками.\n",
        "\n",
        "Приклади створення кортежів:"
      ],
      "metadata": {
        "id": "mE2hO3-h-0uE"
      }
    },
    {
      "cell_type": "code",
      "execution_count": null,
      "source": [
        "tuple1 = ()\n",
        "tuple2 = (1, 3, 5, 7)\n",
        "print(type(tuple1), tuple1)\n",
        "print(type(tuple2), tuple2)"
      ],
      "outputs": [],
      "metadata": {
        "id": "wqy7HpHmAnLH"
      }
    },
    {
      "cell_type": "markdown",
      "source": [
        "Кортежі можуть бути вкладеними. Наприклад:"
      ],
      "metadata": {
        "id": "so5velgfQyjj"
      }
    },
    {
      "cell_type": "code",
      "execution_count": null,
      "source": [
        "tuple1 = (1, 3, 5, 7)\n",
        "tuple2 = ('John', 'Denise', 'Phoebe', 'Adam')\n",
        "tuple3 = (42, tuple1, tuple2, 5.5)\n",
        "print(tuple3)"
      ],
      "outputs": [],
      "metadata": {
        "id": "J3Q93O_SQ2SL"
      }
    },
    {
      "cell_type": "markdown",
      "source": [
        "Кортежі можуть бути створені з об'єктів, що ітеруються, за допомогою функції **tuple()**. Це означає, що кортежі можуть бути створені зокрема з множин, словників та списків.\n",
        "\n",
        "Приклад використання функції **tuple()**:"
      ],
      "metadata": {
        "id": "tV8J97HCByNp"
      }
    },
    {
      "cell_type": "code",
      "execution_count": null,
      "source": [
        "list1 = [1, 2, 3]\n",
        "tuple1 = tuple(list1)\n",
        "print(type(list1), list1)\n",
        "print(type(tuple1), tuple1)"
      ],
      "outputs": [],
      "metadata": {
        "id": "nwKhJ2F8HDlM"
      }
    },
    {
      "cell_type": "markdown",
      "source": [
        "Доступ до елементів кортежу можна отримати за допомогою індекса (у квадратних дужках)."
      ],
      "metadata": {
        "id": "9Wyb3ej7HoPX"
      }
    },
    {
      "cell_type": "code",
      "execution_count": null,
      "source": [
        "tuple1 = (1, 3, 5, 7)\n",
        "print('tup1[0]:', tuple1[0])\n",
        "print('tup1[1]:', tuple1[1])\n",
        "print('tup1[2]:', tuple1[2])\n",
        "print('tup1[3]:', tuple1[3])"
      ],
      "outputs": [],
      "metadata": {
        "id": "pp5S7l4sK9iJ"
      }
    },
    {
      "cell_type": "markdown",
      "source": [
        "Зріз кортежу можна отримати так само, як і зріз списку. Початковий та кінцевий індекси зрізу задаються у квадратних дужках та розділені двокрапкою."
      ],
      "metadata": {
        "id": "lHVAp8N9LS_u"
      }
    },
    {
      "cell_type": "code",
      "execution_count": null,
      "source": [
        "tuple1 = (1, 3, 5, 7)\n",
        "print('tuple1[1]:', tuple1[1])\n",
        "print('tuple1[-1]:', tuple1[-1])\n",
        "print('tuple1[1:3]:', tuple1[1:3])\n",
        "print('tuple1[:3]:', tuple1[:3])\n",
        "print('tuple1[1:]:', tuple1[1:])\n",
        "print('tuple1[::-1]:', tuple1[::-1])"
      ],
      "outputs": [],
      "metadata": {
        "id": "pAc8Dig6LD93"
      }
    },
    {
      "cell_type": "markdown",
      "source": [
        "Кортежі можуть зберігати об'єкти різних типів. Наприклад:"
      ],
      "metadata": {
        "id": "eCD4vVBoOCYf"
      }
    },
    {
      "cell_type": "code",
      "execution_count": null,
      "source": [
        "tuple2 = (1, 'John', ['Phoebe', 21], True, -23.45)\n",
        "print(tuple2)"
      ],
      "outputs": [],
      "metadata": {
        "id": "aLg64vW2NmEO"
      }
    },
    {
      "cell_type": "markdown",
      "source": [
        "З кортежами можна працювати у циклах. Наприклад:"
      ],
      "metadata": {
        "id": "dkQg7ks8O4WR"
      }
    },
    {
      "cell_type": "code",
      "execution_count": null,
      "source": [
        "tuple3 = ('apple', 'pear', 'orange', 'plum', 'apple')\n",
        "for x in tuple3:\n",
        "    print(x, end = ' ')"
      ],
      "outputs": [],
      "metadata": {
        "id": "zWGVziwAOjkT"
      }
    },
    {
      "cell_type": "markdown",
      "source": [
        "Щоб перевірити, чи наявний елемент у кортежі, можна виконати наступний код:"
      ],
      "metadata": {
        "id": "79iQ6EoVRHDh"
      }
    },
    {
      "cell_type": "code",
      "execution_count": null,
      "source": [
        "tuple3 = ('apple', 'pear', 'orange', 'plum', 'apple')\n",
        "if 'orange' in tuple3:\n",
        "    print('orange is in the Tuple')"
      ],
      "outputs": [],
      "metadata": {
        "id": "HGVaRGMBPQcu"
      }
    },
    {
      "cell_type": "markdown",
      "source": [
        "#### Робота з кортежами"
      ],
      "metadata": {
        "id": "9CMFSPJ_T4b0"
      }
    },
    {
      "cell_type": "markdown",
      "source": [
        "Довжину кортежу можна визначити за допомогою функції **len()**."
      ],
      "metadata": {
        "id": "jQ04IbzfRo_p"
      }
    },
    {
      "cell_type": "code",
      "execution_count": null,
      "source": [
        "tuple3 = ('apple', 'pear', 'orange', 'plum', 'apple')\n",
        "print('len(tuple3):', len(tuple3))"
      ],
      "outputs": [],
      "metadata": {
        "id": "5L1arHzcRiGI"
      }
    },
    {
      "cell_type": "markdown",
      "source": [
        "Щоб підрахувати, скільки разів певний елемент зустрічається в кортежі, можна використати метод **count()**. Пам'ятайте, що в кортежі об'єкти можуть дублюватись."
      ],
      "metadata": {
        "id": "HU4bh8YtSDee"
      }
    },
    {
      "cell_type": "code",
      "execution_count": null,
      "source": [
        "tuple3 = ('apple', 'pear', 'orange', 'plum', 'apple')\n",
        "print(tuple3.count('apple'))"
      ],
      "outputs": [],
      "metadata": {
        "id": "bSRJoKMsR4Uw"
      }
    },
    {
      "cell_type": "markdown",
      "source": [
        "Визначити індекс певного елемента в кортежі можна за допомогою методу **index()**."
      ],
      "metadata": {
        "id": "pA5WPy4lS5-q"
      }
    },
    {
      "cell_type": "code",
      "execution_count": null,
      "source": [
        "tuple3 = ('apple', 'pear', 'orange', 'plum', 'apple')\n",
        "print(tuple3.index('pear'))"
      ],
      "outputs": [],
      "metadata": {
        "id": "K14oWi8bS4P1"
      }
    },
    {
      "cell_type": "markdown",
      "source": [
        "Існує всього 2 вбудовані методи, які можна виконувати з кортежами:\n",
        "\n",
        "Метод | Опис\n",
        "--- | ---\n",
        "count() | Повертає кількість елементів з певним значенням\n",
        "index() | Повертає індекс першого елемента із вказаним значенням"
      ],
      "metadata": {
        "id": "JFo-IrUGTtwd"
      }
    },
    {
      "cell_type": "markdown",
      "source": [
        "### **2. Множини**"
      ],
      "metadata": {
        "id": "3txUK3KJUdkf"
      }
    },
    {
      "cell_type": "markdown",
      "source": [
        "Елементи множини не мають позиції (свого індексу) та не можуть повторюватись. Порядок елементів у множині - випадковий. Елементи множини незмінні, але саму множину змінювати можна.\n",
        "\n",
        "Множина задається у фігурних дужках. Наприклад:"
      ],
      "metadata": {
        "id": "VDtoYgk8UpVz"
      }
    },
    {
      "cell_type": "code",
      "execution_count": null,
      "source": [
        "basket = {'apple', 'orange', 'apple', 'pear', 'orange', 'banana'}\n",
        "print(basket)"
      ],
      "outputs": [],
      "metadata": {
        "id": "L_zX_dfBTjjq"
      }
    },
    {
      "cell_type": "markdown",
      "source": [
        "Множини можуть містити дані лише незмінюваних типів, тобто всі, окрім списків, множин та словників:"
      ],
      "metadata": {
        "id": "5O78GPrzaZGO"
      }
    },
    {
      "cell_type": "code",
      "execution_count": null,
      "source": [
        "set1 = {1, 'John', ('Phoebe', 21), True, -23.45}\n",
        "print(set1)"
      ],
      "outputs": [],
      "metadata": {
        "id": "y6UDTkG-Y0BW"
      }
    },
    {
      "cell_type": "markdown",
      "source": [
        "Однак, окрім звичайних змінюваних множин існують ще незмінювані, або заморожені (Frozensets). Якщо Frozensets незмінювані, значить вони можуть бути елементами звичайних множин. Наприклад:"
      ],
      "metadata": {
        "id": "9G2822rqm6aD"
      }
    },
    {
      "cell_type": "code",
      "execution_count": null,
      "source": [
        "set2 = { frozenset({1, 2, 3}) }\n",
        "set3 = { frozenset([1, 2, 3]) }\n",
        "print(set2)\n",
        "print(set3)"
      ],
      "outputs": [],
      "metadata": {
        "id": "KbKVyvLwoNw5"
      }
    },
    {
      "cell_type": "markdown",
      "source": [
        "Звернутись до елемента множини за допомогою індексу неможна (тому що вони невпрорядковані). Але можна вивести елементи множини у циклі for. Наприклад:"
      ],
      "metadata": {
        "id": "Qn-cbwIDbIis"
      }
    },
    {
      "cell_type": "code",
      "execution_count": 2,
      "source": [
        "basket = {'apple', 'orange', 'apple', 'pear', 'orange', 'banana'}\n",
        "for item in basket:\n",
        "    print(item, end = \" \")"
      ],
      "outputs": [
        {
          "output_type": "stream",
          "name": "stdout",
          "text": [
            "apple pear banana orange "
          ]
        }
      ],
      "metadata": {
        "id": "SlxOkdRoasC9"
      }
    },
    {
      "cell_type": "markdown",
      "source": [
        "Щоб перевірити наявність певного елемента у множині, застосовують ключове слово in:"
      ],
      "metadata": {
        "id": "MVlyefCbb3SB"
      }
    },
    {
      "cell_type": "code",
      "execution_count": null,
      "source": [
        "basket = {'apple', 'orange', 'apple', 'pear', 'orange', 'banana'}\n",
        "print('apple' in basket)"
      ],
      "outputs": [],
      "metadata": {
        "id": "MlTQ_STKcKB_"
      }
    },
    {
      "cell_type": "markdown",
      "source": [
        "#### Робота з множинами"
      ],
      "metadata": {
        "id": "RGG5CSvxUZYL"
      }
    },
    {
      "cell_type": "markdown",
      "source": [
        "Для додавання елемента до множини використовується метод **add()**:"
      ],
      "metadata": {
        "id": "Ne_W5g-WdG_2"
      }
    },
    {
      "cell_type": "code",
      "execution_count": null,
      "source": [
        "basket = {'apple', 'orange', 'banana'}\n",
        "basket.add('apricot')\n",
        "print(basket)"
      ],
      "outputs": [],
      "metadata": {
        "id": "eiEQKYkFdV6E"
      }
    },
    {
      "cell_type": "markdown",
      "source": [
        "Щоб додати більше одного елемента до множини, застосовується метод **update()**. Аргументом цього методу може бути множина, список, кортеж чи словник. Метод автоматично конвертує параметр у множинний тип (якщо це не множина) та додасть значення до вихідної множини."
      ],
      "metadata": {
        "id": "Pu3zxpCNdvUG"
      }
    },
    {
      "cell_type": "code",
      "execution_count": null,
      "source": [
        "basket = {'apple', 'orange', 'banana'}\n",
        "basket.update(['apricot', 'mango', 'grapefruit'])\n",
        "print(basket)"
      ],
      "outputs": [],
      "metadata": {
        "id": "kPGKA4hnd5xW"
      }
    },
    {
      "cell_type": "markdown",
      "source": [
        "Як і у випадку з кортежами та списками, визначення довжини множини визначається за допомогою функції **len()**:"
      ],
      "metadata": {
        "id": "aJT5-fYOhttB"
      }
    },
    {
      "cell_type": "code",
      "execution_count": null,
      "source": [
        "basket = {'apple', 'orange', 'apple', 'pear', 'orange', 'banana'}\n",
        "print(len(basket))"
      ],
      "outputs": [],
      "metadata": {
        "id": "_cz4ashfiEZb"
      }
    },
    {
      "cell_type": "markdown",
      "source": [
        "Для видалення елемента з множини використовують методи **remove()** та **discard()**. Обидва методи видаляють один елемент з множини, однак метод **remove()** генерує помилку, якщо елемент не входить у множину, а метод **discard()** не генерує."
      ],
      "metadata": {
        "id": "a5dkQzt1iN-7"
      }
    },
    {
      "cell_type": "code",
      "execution_count": null,
      "source": [
        "basket = {'apple', 'orange', 'apple', 'pear', 'orange', 'banana'}\n",
        "print(basket)\n",
        "basket.remove('apple')\n",
        "basket.discard('apricot')\n",
        "print(basket)"
      ],
      "outputs": [],
      "metadata": {
        "id": "aVGnrUB8iNJf"
      }
    },
    {
      "cell_type": "markdown",
      "source": [
        "Щоб видалити всі елементи списку, використовується метод **clear()**:"
      ],
      "metadata": {
        "id": "6zeueOULki3V"
      }
    },
    {
      "cell_type": "code",
      "execution_count": null,
      "source": [
        "basket = {'apple', 'orange', 'banana'}\n",
        "basket.clear()\n",
        "print(basket)"
      ],
      "outputs": [],
      "metadata": {
        "id": "YRVYzQCEk7Fn"
      }
    },
    {
      "cell_type": "markdown",
      "source": [
        "Також над множинами у Python можна виконувати операції об'єднання (**|**), перетину(**&**), різниці(**-**) та симетричної різниці(**^**). Наприклад, якщо є множини A та B, ці операції можна зобразити так:\n",
        "\n",
        ">![Operations with sets](https://www.learnbyexample.org/wp-content/uploads/python/Python-Set-Operatioons.png)\n",
        "\n",
        "Створимо множини set1 та set2. Операції об'єднання, перетину, різниці та симетричної різниці над ними матимуть такий вигляд:"
      ],
      "metadata": {
        "id": "stMzCf8Sk6go"
      }
    },
    {
      "cell_type": "code",
      "execution_count": null,
      "source": [
        "set1 = {'apple', 'orange', 'banana'}\n",
        "set2 = {'grapefruit', 'lime', 'banana'}\n",
        "\n",
        "print('Union:', set1 | set2)\n",
        "print('Intersection:', set1 & set2)\n",
        "print('Difference:', set1 - set2)\n",
        "print('Symmetric Difference:', set1 ^ set2)"
      ],
      "outputs": [],
      "metadata": {
        "id": "SpRDCuOvrJbD"
      }
    },
    {
      "cell_type": "markdown",
      "source": [
        "Ті ж намі операції над множинами можна виконати за допомогою відповідних методів:"
      ],
      "metadata": {
        "id": "524gRYs9qxvO"
      }
    },
    {
      "cell_type": "code",
      "execution_count": null,
      "source": [
        "print(set1.union(set2)) #is the equivalent of s1 | s2\n",
        "print(set1.intersection(set2)) #is the equivalent of s1 & s2\n",
        "print(set1.difference(set2)) #is the equivalent of s1 − s2\n",
        "print(set1.symmetric_difference(set2)) #is the equivalent of s1 ^ s2"
      ],
      "outputs": [],
      "metadata": {
        "id": "UcUZm3R9ruwr"
      }
    },
    {
      "cell_type": "markdown",
      "source": [
        "Повний перелік вбудованих методів, які можна виконувати з множинами, поданий у таблиці.\n",
        "\n",
        "Метод | Опис\n",
        "--- | ---\n",
        "add() | Додає елемент до множини\n",
        "clear() | Видаляє всі елементи множини\n",
        "copy() | Повертає копію множини\n",
        "difference() | Повертає множину, що містить різницю між двома та більше множинами\n",
        "difference_update() | Видаляє ті елементи поточної множини, які також входять в інші визначені множини\n",
        "discard() | Видаляє певний визначений елемент\n",
        "intersection() | Повертає множину, яка є перетином двох інших множин\n",
        "intersection_update() | Видаляє ті елементи в поточній множині, що відсутні в інших визначених множинах\n",
        "isdisjoint() | Повертає значення двійкового типу, що вказує на те, чи мають множини спільні елементи\n",
        "issubset() | Повертає значення двійкового типу, що вказує на те, чи містить в собі множина, що розглядається, поточну множину\n",
        "issuperset() | Повертає значення двійкового типу, що вказує на те, чи містить в собі поточна множина ту множину, що розглядається\n",
        "pop() | Видаляє випадковий елемент множини\n",
        "remove() | Видаляє певний визначений елемент та генерує помилку, якщо елемент не входить у множину\n",
        "symmetric_difference() | Повертає множину, яка є симетричною різницею двох заданих множин\n",
        "symmetric_difference_update() | Зберігає у поточну множину ті елементи, що є унікальними для обох множин\n",
        "union() | Повертає множину, що містить об'єднання двох множин\n",
        "update() | Корегує множину, додаючи до неї елементи об'єднання поточної множини та тієї множини, що розглядається"
      ],
      "metadata": {
        "id": "dg2Q_TKSswhG"
      }
    },
    {
      "cell_type": "markdown",
      "source": [
        "### **3. Словники**"
      ],
      "metadata": {
        "id": "n1mNKt9JzLSj"
      }
    },
    {
      "cell_type": "markdown",
      "source": [
        "Словник - це невпорядкована, змінювана та індексована множина пар 'ключ':'значення'.\n",
        "\n",
        "Графічно словник можна подати так, як показано у прикладі нижче.\n",
        "\n",
        ">![Dictionary. Keys-Values](https://www.learnbyexample.org/wp-content/uploads/python/Dictionary-Key-Value-Pairs-Illustration.png)\n",
        "\n"
      ],
      "metadata": {
        "id": "xenHUM19SOpG"
      }
    },
    {
      "cell_type": "markdown",
      "source": [
        "Словники створюються у фігурних дужках. Кожен елемент словника складається з пари 'ключ':'значення'. Наприклад:"
      ],
      "metadata": {
        "id": "4hV2lQs0aNQY"
      }
    },
    {
      "cell_type": "code",
      "execution_count": null,
      "source": [
        "cities = {'Wales': 'Cardiff',\n",
        "          'England': 'London',\n",
        "          'Scotland': 'Edinburgh',\n",
        "          'Northern Ireland': 'Belfast',\n",
        "          'Ireland': 'Dublin'}\n",
        "print(cities)"
      ],
      "outputs": [],
      "metadata": {
        "id": "pRw3iGD1zN0K"
      }
    },
    {
      "cell_type": "markdown",
      "source": [
        "Щоб створити словник з об'єкта, що ітерується, або з послідовності пар 'ключ':'значення', використовують функцію **dict()**. Приклади створення словника:"
      ],
      "metadata": {
        "id": "TMcLOWC7bl9d"
      }
    },
    {
      "cell_type": "code",
      "execution_count": null,
      "source": [
        "dict1 = dict(uk='London', ireland='Dublin', france='Paris')\n",
        "print('dict1:', dict1)\n",
        "dict2 = dict([('uk', 'London'), ('ireland', 'Dublin'),('france', 'Paris')])\n",
        "print('dict2:', dict2)\n",
        "dict3 = dict((['uk', 'London'], ['ireland', 'Dublin'],['france', 'Paris']))\n",
        "print('dict3:', dict3)"
      ],
      "outputs": [],
      "metadata": {
        "id": "bWYEXQ86bH-Q"
      }
    },
    {
      "cell_type": "markdown",
      "source": [
        "У dict1 ключі не є об'єктами рядкового типу.\n",
        "\n",
        "У dict2 пари 'ключ':'значення' є кортежами.\n",
        "\n",
        "У dict3 пари 'ключ':'значення' є списками.\n",
        "\n",
        "У мові програмування Python ключі та значення можуть набувати різного вигляду. Наприклад, ключ може бути кортежем, а значення - списком, кортежем, множиною чи навіть словником. Наприклад:"
      ],
      "metadata": {
        "id": "ShVJLiFQS350"
      }
    },
    {
      "cell_type": "code",
      "execution_count": 5,
      "source": [
        "seasons = {'Spring': ('March', 'April', 'May'),\n",
        "           'Summer': ['June', 'July', 'August'],\n",
        "           'Autumn': {'September', 'October', 'November'},\n",
        "           'Winter': {'December':'Snow', 'January':'Wind', 'February':'frost'}}\n",
        "print(seasons['Spring'])\n",
        "print(seasons['Spring'][1])"
      ],
      "outputs": [
        {
          "output_type": "stream",
          "name": "stdout",
          "text": [
            "('March', 'April', 'May')\n",
            "April\n"
          ]
        }
      ],
      "metadata": {
        "id": "K2HZbVHictpO"
      }
    },
    {
      "cell_type": "markdown",
      "source": [
        "#### Робота зі словниками"
      ],
      "metadata": {
        "id": "aLPKl5rHTt-U"
      }
    },
    {
      "cell_type": "markdown",
      "source": [
        "Отримати доступ до значень, які зберігаються у словнику, можна за допомогою асоційованих з цими значеннями ключів. Для цього використовуються або квадратні дужки, або метод **get()**."
      ],
      "metadata": {
        "id": "QF58QTS2UoCt"
      }
    },
    {
      "cell_type": "code",
      "execution_count": null,
      "source": [
        "cities = {'Wales': 'Cardiff',\n",
        "          'England': 'London',\n",
        "          'Scotland': 'Edinburgh',\n",
        "          'Northern Ireland': 'Belfast',\n",
        "          'Ireland': 'Dublin'}\n",
        "print('cities[Wales]:', cities['Wales'])\n",
        "print('cities.get(Ireland):', cities.get('Ireland'))"
      ],
      "outputs": [],
      "metadata": {
        "id": "Bf4JEAjyP498"
      }
    },
    {
      "cell_type": "markdown",
      "source": [
        "Щоб додати новий об'єкт до словника, потрібно задати ключ (у квадратних дужках) та значення, що йому відповідає."
      ],
      "metadata": {
        "id": "Ibk9ij_vVw34"
      }
    },
    {
      "cell_type": "code",
      "execution_count": null,
      "source": [
        "cities = {'Wales': 'Cardiff',\n",
        "          'England': 'London',\n",
        "          'Scotland': 'Edinburgh',\n",
        "          'Northern Ireland': 'Belfast',\n",
        "          'Ireland': 'Dublin'}\n",
        "cities['Wales'] = 'Swansea'\n",
        "print(cities)\n",
        "print('cities[Wales]:', cities['Wales'])"
      ],
      "outputs": [],
      "metadata": {
        "id": "RKzVXYcEWTRD"
      }
    },
    {
      "cell_type": "markdown",
      "source": [
        "Для видалення елемента словника використовують методи **pop()**, **popitem()** або ключове слово **del**.\n",
        "\n",
        "Метод **pop()** видаляє об'єкт за ключем і повертає видалене значення.\n",
        "\n",
        "Метод **popitem()** видаляє останній введений елемент словника (у версіях Python до 3.7 метод видаляє один випадковий елемент словника). Повертає видалену пару 'ключ':'значення'.\n",
        "\n",
        "Ключове слово **del** видаляє об'єкт за ключем."
      ],
      "metadata": {
        "id": "jhRslp18WjKq"
      }
    },
    {
      "cell_type": "code",
      "execution_count": null,
      "source": [
        "cities = {'Wales': 'Cardiff',\n",
        "          'England': 'London',\n",
        "          'Scotland': 'Edinburgh',\n",
        "          'Northern Ireland': 'Belfast',\n",
        "          'Ireland': 'Dublin'}\n",
        "print(cities)\n",
        "cities.pop('Northern Ireland')\n",
        "print(cities)\n",
        "cities.popitem()\n",
        "print(cities)\n",
        "del cities['Scotland']\n",
        "print(cities)"
      ],
      "outputs": [],
      "metadata": {
        "id": "z3vEncavxKbh"
      }
    },
    {
      "cell_type": "markdown",
      "source": [
        "Метод **clear()** видаляє всі елементи словника. Зверніть увагу на те, що порожній словник - це фактично множина без елементів."
      ],
      "metadata": {
        "id": "ZHBVal_o2Abe"
      }
    },
    {
      "cell_type": "code",
      "execution_count": null,
      "source": [
        "cities = {'Wales': 'Cardiff',\n",
        "          'England': 'London',\n",
        "          'Scotland': 'Edinburgh',\n",
        "          'Northern Ireland': 'Belfast',\n",
        "          'Ireland': 'Dublin'}\n",
        "print(cities)\n",
        "cities.clear()\n",
        "print(cities)"
      ],
      "outputs": [],
      "metadata": {
        "id": "neNumKKi0DJd"
      }
    },
    {
      "cell_type": "markdown",
      "source": [
        "Елементи словника можна виводити у циклі for. Доступ до значень відбувається через ключі. Приклад:"
      ],
      "metadata": {
        "id": "F3rntCXC4zWb"
      }
    },
    {
      "cell_type": "code",
      "execution_count": 3,
      "source": [
        "cities = {'Wales': 'Cardiff',\n",
        "          'England': 'London',\n",
        "          'Scotland': 'Edinburgh',\n",
        "          'Northern Ireland': 'Belfast',\n",
        "          'Ireland': 'Dublin'}\n",
        "for country in cities:\n",
        "    print(country, end=', ')\n",
        "    print(cities[country])"
      ],
      "outputs": [
        {
          "output_type": "stream",
          "name": "stdout",
          "text": [
            "Wales, Cardiff\n",
            "England, London\n",
            "Scotland, Edinburgh\n",
            "Northern Ireland, Belfast\n",
            "Ireland, Dublin\n"
          ]
        }
      ],
      "metadata": {
        "id": "ZqoE2N8nLFBl"
      }
    },
    {
      "cell_type": "markdown",
      "source": [
        "Існують три методи, які дозволяють вивести вміст словника: **values()**, **keys()** та **items()**.\n",
        "\n",
        "Метод **values()** повертає значення словника.\n",
        "\n",
        "Метод **keys()** повертає ключі словника.\n",
        "\n",
        "Метод **items()** повертає пари 'ключ':'значення'."
      ],
      "metadata": {
        "id": "g-nHfpBzML6O"
      }
    },
    {
      "cell_type": "code",
      "execution_count": 1,
      "source": [
        "cities = {'Wales': 'Cardiff',\n",
        "          'England': 'London',\n",
        "          'Scotland': 'Edinburgh',\n",
        "          'Northern Ireland': 'Belfast',\n",
        "          'Ireland': 'Dublin'}\n",
        "print(cities.values())\n",
        "print(cities.keys())\n",
        "print(cities.items())"
      ],
      "outputs": [
        {
          "output_type": "stream",
          "name": "stdout",
          "text": [
            "dict_values(['Cardiff', 'London', 'Edinburgh', 'Belfast', 'Dublin'])\n",
            "dict_keys(['Wales', 'England', 'Scotland', 'Northern Ireland', 'Ireland'])\n",
            "dict_items([('Wales', 'Cardiff'), ('England', 'London'), ('Scotland', 'Edinburgh'), ('Northern Ireland', 'Belfast'), ('Ireland', 'Dublin')])\n"
          ]
        }
      ],
      "metadata": {
        "id": "iD7ogeUdMHEj"
      }
    },
    {
      "cell_type": "markdown",
      "source": [
        "Щоб перевірити, чи містить словник певний ключ, використовують ключове слово **in** (або **not in**, щоб перевірити протилежне твердження). Наприклад:"
      ],
      "metadata": {
        "id": "ujLlZducaWIJ"
      }
    },
    {
      "cell_type": "code",
      "execution_count": 2,
      "source": [
        "cities = {'Wales': 'Cardiff',\n",
        "          'England': 'London',\n",
        "          'Scotland': 'Edinburgh',\n",
        "          'Northern Ireland': 'Belfast',\n",
        "          'Ireland': 'Dublin'}\n",
        "print('Wales' in cities)\n",
        "print('France' not in cities)"
      ],
      "outputs": [
        {
          "output_type": "stream",
          "name": "stdout",
          "text": [
            "True\n",
            "True\n"
          ]
        }
      ],
      "metadata": {
        "id": "gCln1Sbxa-TW"
      }
    },
    {
      "cell_type": "markdown",
      "source": [
        "Функція **len()** використовується для підрахунку довжини словника."
      ],
      "metadata": {
        "id": "eOu7znhXbBri"
      }
    },
    {
      "cell_type": "code",
      "execution_count": null,
      "source": [
        "cities = {'Wales': 'Cardiff',\n",
        "          'England': 'London',\n",
        "          'Scotland': 'Edinburgh',\n",
        "          'Northern Ireland': 'Belfast',\n",
        "          'Ireland': 'Dublin'}\n",
        "print(len(cities))"
      ],
      "outputs": [],
      "metadata": {
        "id": "XkMxG7Pma_3w"
      }
    },
    {
      "cell_type": "markdown",
      "source": [
        "Повний перелік вбудованих методів, які можна виконувати зі словниками, поданий у таблиці.\n",
        "\n",
        "Метод | Опис\n",
        "--- | ---\n",
        "clear() | Видаляє всі елементи словника\n",
        "copy() | Повертає копію словника\n",
        "fromkeys() | Повертає словник з визначеними ключами та значеннями\n",
        "get() | Повертає значення, що відповідає визначеному ключу\n",
        "items() | Повертає список, що складається з кортежів, в яких містяться пари 'ключ':'значення'\n",
        "keys() | Повертає список всіх ключів словника\n",
        "pop() | Видаляє елемент з визначеним ключем\n",
        "popitem() | Видаляє останню введену пару 'ключ':'значення'\n",
        "setdefault() | Повертає значення та визначений ключ. Якщо потрібного ключа не існує, вписує ключ та значення у словник.\n",
        "update() | Додає визначені ключ та значення до словника\n",
        "values() | Повертає список всіх значень словника"
      ],
      "metadata": {
        "id": "UjfolxKpgPAg"
      }
    }
  ]
}